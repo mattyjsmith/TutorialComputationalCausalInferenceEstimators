{
 "cells": [
  {
   "cell_type": "markdown",
   "metadata": {},
   "source": [
    "# Tutorial: causal inference methods made easy for applied resarchers/epidemiologists/statisticians \n",
    "\n",
    "Miguel Angel Luque Fernandez, PhD; Assistant Professor of Epidemiology and Biostatistics, Inequalities in Cancer Outcomes Network, LSHTM, London, UK\n",
    "\n",
    "Matthew Smith, PhD; Research Fellow, Inequalities in Cancer Outcomes Network, LSHTM, London, UK\n",
    "\n",
    "Paul Zivich, PhD, MPH; University of North Carolina at Chapel Hill, Chapel Hill, NC, USA\n",
    "\n",
    "\n",
    "\n",
    "Copyright (c) 2021 Permission is hereby granted, free of charge, to any person obtaining a copy of this software and associated documentation files (the \"Software\"), to deal in the Software without restriction, including without limitation the rights to use, copy, modify, merge, publish, distribute, sublicense, and/or sell copies of the Software, and to permit persons to whom the Software is furnished to do so, subject to the following conditions: The above copyright notice and this permission notice shall be included in all copies or substantial portions of the Software.\n",
    "\n",
    "THE SOFTWARE IS PROVIDED \"AS IS\", WITHOUT WARRANTY OF ANY KIND, EXPRESS OR IMPLIED, INCLUDING BUT NOT LIMITED TO THE WARRANTIES OF MERCHANTABILITY, FITNESS FOR A PARTICULAR PURPOSE AND NON INFRINGEMENT. IN NO EVENT SHALL THE AUTHORS OR COPYRIGHT HOLDERS BE LIABLE FOR ANY CLAIM, DAMAGES OR OTHER LIABILITY, WHETHER IN AN ACTION OF CONTRACT, TORT OR OTHERWISE, ARISING FROM, OUT OF OR IN CONNECTION WITH THE SOFTWARE OR THE USE OR OTHER DEALINGS IN THE SOFTWARE.\n",
    "\n",
    "Bug reports: miguel-angel.luque at lshtm.ac.uk\t\n",
    "\n",
    "The rhc dataset can be dowloaded at http://biostat.mc.vanderbilt.edu/wiki/Main/DataSets"
   ]
  },
  {
   "cell_type": "code",
   "execution_count": 1,
   "metadata": {},
   "outputs": [
    {
     "name": "stdout",
     "output_type": "stream",
     "text": [
      "patsy       0.5.1\n",
      "scipy       1.5.2\n",
      "numpy       1.19.1\n",
      "pandas      1.1.5\n",
      "statsmodels 0.12.2\n",
      "matplotlib  3.3.1\n",
      "zepid       0.9.0\n"
     ]
    }
   ],
   "source": [
    "%matplotlib inline\n",
    "\n",
    "# Importing libraries for the tutorial\n",
    "import patsy\n",
    "import scipy\n",
    "import numpy as np\n",
    "import pandas as pd\n",
    "import statsmodels.api as sm\n",
    "import statsmodels.formula.api as smf\n",
    "import matplotlib\n",
    "import matplotlib.pyplot as plt\n",
    "import zepid\n",
    "\n",
    "from scipy.stats.kde import gaussian_kde\n",
    "from scipy.stats import logistic\n",
    "from zepid.calc import probability_to_odds, odds_to_probability\n",
    "\n",
    "np.random.seed(987)\n",
    "\n",
    "print(\"patsy      \", patsy.__version__)\n",
    "print(\"scipy      \", scipy.__version__)\n",
    "print(\"numpy      \", np.__version__)\n",
    "print(\"pandas     \", pd.__version__)\n",
    "print(\"statsmodels\", sm.__version__)\n",
    "print(\"matplotlib \", matplotlib.__version__)\n",
    "print(\"zepid      \", zepid.__version__)"
   ]
  },
  {
   "cell_type": "markdown",
   "metadata": {},
   "source": [
    "## Box 1: Setting the data"
   ]
  },
  {
   "cell_type": "code",
   "execution_count": 2,
   "metadata": {},
   "outputs": [],
   "source": [
    "# Box 1: Setting up the data\n",
    "data = pd.read_csv(\"rhc.csv\")\n",
    "data.rename(columns={\"rhc\": \"A\", \n",
    "                     \"death_d30\": \"Y\",\n",
    "                     \"sex\": \"C\",\n",
    "                     \"age\": \"W1\",\n",
    "                     \"edu\": \"W2\",\n",
    "                     \"race\": \"W3\",\n",
    "                     \"carcinoma\": \"W4\",\n",
    "            }, inplace=True)\n",
    "data['A'] = np.where(data['A'] == \"Yes\", 1, 0)\n",
    "data['C'] = np.where(data['C'] == \"Female\", 0, 1)\n",
    "data['W3'] = np.where(data['W3'] == \"White\", 0, data['W3'])\n",
    "data['W3'] = np.where(data['W3'] == \"Black\", 1, data['W3'])\n",
    "data['W3'] = np.where(data['W3'] == \"Other\", 2, data['W3'])\n",
    "data['W3'] = data['W3'].astype(int)\n",
    "data['W4'] = np.where(data['W4'] == \"No\", 0, data['W4'])\n",
    "data['W4'] = np.where(data['W4'] == \"Yes\", 1, data['W4'])\n",
    "data['W4'] = np.where(data['W4'] == \"Metastatic\", 2, data['W4'])\n",
    "data['W4'] = data['W4'].astype(int)\n",
    "\n",
    "data = data[[\"Y\", \"A\", \"C\", \"W1\", \"W2\", \"W3\", \"W4\"]].copy()"
   ]
  },
  {
   "cell_type": "markdown",
   "metadata": {},
   "source": [
    "## Box 2: Adjusted Regression"
   ]
  },
  {
   "cell_type": "code",
   "execution_count": 3,
   "metadata": {},
   "outputs": [
    {
     "name": "stdout",
     "output_type": "stream",
     "text": [
      "Adjusted Regression Estimate: 0.07352\n"
     ]
    },
    {
     "data": {
      "text/html": [
       "<table class=\"simpletable\">\n",
       "<caption>OLS Regression Results</caption>\n",
       "<tr>\n",
       "  <th>Dep. Variable:</th>            <td>Y</td>        <th>  R-squared:         </th> <td>   0.006</td>\n",
       "</tr>\n",
       "<tr>\n",
       "  <th>Model:</th>                   <td>OLS</td>       <th>  Adj. R-squared:    </th> <td>   0.005</td>\n",
       "</tr>\n",
       "<tr>\n",
       "  <th>Method:</th>             <td>Least Squares</td>  <th>  F-statistic:       </th> <td>   16.59</td>\n",
       "</tr>\n",
       "<tr>\n",
       "  <th>Date:</th>             <td>Mon, 05 Jul 2021</td> <th>  Prob (F-statistic):</th> <td>6.58e-08</td>\n",
       "</tr>\n",
       "<tr>\n",
       "  <th>Time:</th>                 <td>15:48:12</td>     <th>  Log-Likelihood:    </th> <td> -3812.9</td>\n",
       "</tr>\n",
       "<tr>\n",
       "  <th>No. Observations:</th>      <td>  5735</td>      <th>  AIC:               </th> <td>   7632.</td>\n",
       "</tr>\n",
       "<tr>\n",
       "  <th>Df Residuals:</th>          <td>  5732</td>      <th>  BIC:               </th> <td>   7652.</td>\n",
       "</tr>\n",
       "<tr>\n",
       "  <th>Df Model:</th>              <td>     2</td>      <th>                     </th>     <td> </td>   \n",
       "</tr>\n",
       "<tr>\n",
       "  <th>Covariance Type:</th>      <td>nonrobust</td>    <th>                     </th>     <td> </td>   \n",
       "</tr>\n",
       "</table>\n",
       "<table class=\"simpletable\">\n",
       "<tr>\n",
       "      <td></td>         <th>coef</th>     <th>std err</th>      <th>t</th>      <th>P>|t|</th>  <th>[0.025</th>    <th>0.975]</th>  \n",
       "</tr>\n",
       "<tr>\n",
       "  <th>Intercept</th> <td>    0.3049</td> <td>    0.010</td> <td>   29.354</td> <td> 0.000</td> <td>    0.285</td> <td>    0.325</td>\n",
       "</tr>\n",
       "<tr>\n",
       "  <th>A</th>         <td>    0.0735</td> <td>    0.013</td> <td>    5.739</td> <td> 0.000</td> <td>    0.048</td> <td>    0.099</td>\n",
       "</tr>\n",
       "<tr>\n",
       "  <th>C</th>         <td>    0.0027</td> <td>    0.013</td> <td>    0.219</td> <td> 0.826</td> <td>   -0.022</td> <td>    0.027</td>\n",
       "</tr>\n",
       "</table>\n",
       "<table class=\"simpletable\">\n",
       "<tr>\n",
       "  <th>Omnibus:</th>       <td>36985.427</td> <th>  Durbin-Watson:     </th> <td>   1.981</td> \n",
       "</tr>\n",
       "<tr>\n",
       "  <th>Prob(Omnibus):</th>  <td> 0.000</td>   <th>  Jarque-Bera (JB):  </th> <td> 993.118</td> \n",
       "</tr>\n",
       "<tr>\n",
       "  <th>Skew:</th>           <td> 0.696</td>   <th>  Prob(JB):          </th> <td>2.22e-216</td>\n",
       "</tr>\n",
       "<tr>\n",
       "  <th>Kurtosis:</th>       <td> 1.511</td>   <th>  Cond. No.          </th> <td>    3.07</td> \n",
       "</tr>\n",
       "</table><br/><br/>Notes:<br/>[1] Standard Errors assume that the covariance matrix of the errors is correctly specified."
      ],
      "text/plain": [
       "<class 'statsmodels.iolib.summary.Summary'>\n",
       "\"\"\"\n",
       "                            OLS Regression Results                            \n",
       "==============================================================================\n",
       "Dep. Variable:                      Y   R-squared:                       0.006\n",
       "Model:                            OLS   Adj. R-squared:                  0.005\n",
       "Method:                 Least Squares   F-statistic:                     16.59\n",
       "Date:                Mon, 05 Jul 2021   Prob (F-statistic):           6.58e-08\n",
       "Time:                        15:48:12   Log-Likelihood:                -3812.9\n",
       "No. Observations:                5735   AIC:                             7632.\n",
       "Df Residuals:                    5732   BIC:                             7652.\n",
       "Df Model:                           2                                         \n",
       "Covariance Type:            nonrobust                                         \n",
       "==============================================================================\n",
       "                 coef    std err          t      P>|t|      [0.025      0.975]\n",
       "------------------------------------------------------------------------------\n",
       "Intercept      0.3049      0.010     29.354      0.000       0.285       0.325\n",
       "A              0.0735      0.013      5.739      0.000       0.048       0.099\n",
       "C              0.0027      0.013      0.219      0.826      -0.022       0.027\n",
       "==============================================================================\n",
       "Omnibus:                    36985.427   Durbin-Watson:                   1.981\n",
       "Prob(Omnibus):                  0.000   Jarque-Bera (JB):              993.118\n",
       "Skew:                           0.696   Prob(JB):                    2.22e-216\n",
       "Kurtosis:                       1.511   Cond. No.                         3.07\n",
       "==============================================================================\n",
       "\n",
       "Notes:\n",
       "[1] Standard Errors assume that the covariance matrix of the errors is correctly specified.\n",
       "\"\"\""
      ]
     },
     "execution_count": 3,
     "metadata": {},
     "output_type": "execute_result"
    }
   ],
   "source": [
    "# Box 2: Adjusted regression\n",
    "fm = smf.ols(\"Y ~ A + C\", data).fit()\n",
    "print(\"Adjusted Regression Estimate:\", np.round(fm.params['A'], 5))\n",
    "fm.summary()  # Full model results"
   ]
  },
  {
   "cell_type": "markdown",
   "metadata": {},
   "source": [
    "# Section 3.1: Non-parametric g-formula\n",
    "\n",
    "## Box 3: Non-parametric g-formula for the ATE"
   ]
  },
  {
   "cell_type": "code",
   "execution_count": 4,
   "metadata": {},
   "outputs": [
    {
     "name": "stdout",
     "output_type": "stream",
     "text": [
      "ATE 0.073692\n"
     ]
    }
   ],
   "source": [
    "pr_y_a1c1 = np.mean(data.loc[(data['C'] == 1) & (data['A'] == 1), 'Y'])\n",
    "pr_y_a0c1 = np.mean(data.loc[(data['C'] == 1) & (data['A'] == 0), 'Y'])\n",
    "pr_y_a1c0 = np.mean(data.loc[(data['C'] == 0) & (data['A'] == 1), 'Y'])\n",
    "pr_y_a0c0 = np.mean(data.loc[(data['C'] == 0) & (data['A'] == 0), 'Y'])\n",
    "\n",
    "pr_c1 = np.mean(data['C'])\n",
    "pr_c0 = 1 - pr_c1\n",
    "\n",
    "ate = (pr_y_a1c1 - pr_y_a0c1)*pr_c1 + (pr_y_a1c0 - pr_y_a0c0)*pr_c0\n",
    "print(\"ATE\", np.round(ate, 6))"
   ]
  },
  {
   "cell_type": "markdown",
   "metadata": {},
   "source": [
    "## Box 4: Bootstrap 95% Confidence Intervals (CI) for the ATE estimated using the non-parametric g-formula"
   ]
  },
  {
   "cell_type": "code",
   "execution_count": 5,
   "metadata": {},
   "outputs": [
    {
     "name": "stdout",
     "output_type": "stream",
     "text": [
      "95% Confidence limits for the ATE\n",
      "Percentile method:    [0.048135 0.098957]\n",
      "Normal Approx method: [0.048147 0.099237]\n"
     ]
    }
   ],
   "source": [
    "def ate_nonparm_gformula(d):\n",
    "    \"\"\"Function to estimate the ATE using the nonparametric\n",
    "    g-formula to use in the bootstrapping procedure\"\"\"\n",
    "    pr_c1 = np.mean(d['C'])\n",
    "    pr_c0 = 1 - pr_c1\n",
    "\n",
    "    pr_y_11 = np.mean(d.loc[(d['C'] == 1) & (d['A'] == 1), 'Y'])\n",
    "    pr_y_01 = np.mean(d.loc[(d['C'] == 1) & (d['A'] == 0), 'Y'])\n",
    "    pr_y_10 = np.mean(d.loc[(d['C'] == 0) & (d['A'] == 1), 'Y'])\n",
    "    pr_y_00 = np.mean(d.loc[(d['C'] == 0) & (d['A'] == 0), 'Y'])\n",
    "    \n",
    "    return (pr_y_11 - pr_y_01)*pr_c1 + (pr_y_10 - pr_y_00)*pr_c0\n",
    "\n",
    "## ATE ##\n",
    "ate_rs = []\n",
    "for i in range(1000):  # Drawing 1000 bootstrapped samples\n",
    "    d_star = data.sample(n=data.shape[0], # Same size as input data\n",
    "                         replace=True)  # Draw with replacement\n",
    "    ate_rs.append(ate_nonparm_gformula(d=d_star))\n",
    "\n",
    "print(\"95% Confidence limits for the ATE\")\n",
    "ci_perc = np.percentile(ate_rs, q=[2.5, 97.5])\n",
    "print(\"Percentile method:   \", np.round(ci_perc, 6))\n",
    "ate_se = np.std(ate_rs, ddof=1)\n",
    "print(\"Normal Approx method:\", np.round([ate - 1.96*ate_se,\n",
    "                                          ate + 1.96*ate_se], 6))"
   ]
  },
  {
   "cell_type": "markdown",
   "metadata": {},
   "source": [
    "## Box 5: Non-parametric g-formula using a saturated regression model"
   ]
  },
  {
   "cell_type": "code",
   "execution_count": 6,
   "metadata": {},
   "outputs": [
    {
     "name": "stdout",
     "output_type": "stream",
     "text": [
      "ATE 0.073692\n"
     ]
    }
   ],
   "source": [
    "data[\"A1\"] = np.where(data['A'] == 1, 1, 0)\n",
    "data[\"A0\"] = np.where(data['A'] == 0, 1, 0)\n",
    "fm = smf.ols(\"Y ~ A1 + A0 + A1:C + A0:C - 1\", data).fit()\n",
    "betas = fm.params\n",
    "ate = np.mean((betas[\"A1\"] + betas[\"A1:C\"]*data[\"C\"]) -\n",
    "              (betas[\"A0\"] + betas[\"A0:C\"]*data[\"C\"]))\n",
    "\n",
    "print(\"ATE\", np.round(ate, 6))"
   ]
  },
  {
   "cell_type": "markdown",
   "metadata": {},
   "source": [
    "## Box 6: Non-parametric g-formula using a fully saturated model with zEpid"
   ]
  },
  {
   "cell_type": "code",
   "execution_count": 7,
   "metadata": {},
   "outputs": [
    {
     "name": "stdout",
     "output_type": "stream",
     "text": [
      "ATE 0.073692\n"
     ]
    }
   ],
   "source": [
    "g_formula = zepid.causal.gformula.TimeFixedGFormula(data, \n",
    "                                                    exposure=\"A\", \n",
    "                                                    outcome=\"Y\")\n",
    "g_formula.outcome_model(\"A + C + A:C\",  # Estimating model\n",
    "                        print_results=False)\n",
    "\n",
    "g_formula.fit(\"all\")  # all sets A=1\n",
    "y_a1 = g_formula.marginal_outcome\n",
    "\n",
    "g_formula.fit(\"none\")  # none sets A=0\n",
    "y_a0 = g_formula.marginal_outcome\n",
    "\n",
    "print(\"ATE\", np.round(y_a1 - y_a0, 6))"
   ]
  },
  {
   "cell_type": "markdown",
   "metadata": {},
   "source": [
    "# Section 3.2: Parametric g-formula\n",
    "\n",
    "## Box 7: Parametric regression adjustment implementation of the g-formula"
   ]
  },
  {
   "cell_type": "code",
   "execution_count": 8,
   "metadata": {},
   "outputs": [
    {
     "name": "stdout",
     "output_type": "stream",
     "text": [
      "ATE 0.073692\n"
     ]
    }
   ],
   "source": [
    "f = sm.families.family.Binomial()  # Using logit model unlike prev\n",
    "fm_a1 = smf.glm(\"Y ~ C\", data.loc[data[\"A\"] == 1], family=f).fit()\n",
    "fm_a0 = smf.glm(\"Y ~ C\", data.loc[data[\"A\"] == 0], family=f).fit()\n",
    "\n",
    "y_a1 = fm_a1.predict(data['C'])\n",
    "y_a0 = fm_a0.predict(data['C'])\n",
    "ate = np.mean(y_a1 - y_a0)\n",
    "\n",
    "print(\"ATE\", np.round(ate, 6))"
   ]
  },
  {
   "cell_type": "markdown",
   "metadata": {},
   "source": [
    "## Box 8: Parametric regression adjustment using zEpid"
   ]
  },
  {
   "cell_type": "code",
   "execution_count": 9,
   "metadata": {},
   "outputs": [
    {
     "name": "stdout",
     "output_type": "stream",
     "text": [
      "ATE 0.073692\n"
     ]
    }
   ],
   "source": [
    "g_formula = zepid.causal.gformula.TimeFixedGFormula(data, \n",
    "                                                    exposure=\"A\", \n",
    "                                                    outcome=\"Y\")\n",
    "g_formula.outcome_model(\"A + C + A:C\",\n",
    "                        print_results=False)\n",
    "\n",
    "g_formula.fit(\"all\")  # all sets A=1\n",
    "y_a1 = g_formula.marginal_outcome\n",
    "\n",
    "g_formula.fit(\"none\")  # none sets A=0\n",
    "y_a0 = g_formula.marginal_outcome\n",
    "\n",
    "print(\"ATE\", np.round(y_a1 - y_a0, 6))"
   ]
  },
  {
   "cell_type": "markdown",
   "metadata": {},
   "source": [
    "## Box 9: Bootstrap for the parametric regression adjustment"
   ]
  },
  {
   "cell_type": "code",
   "execution_count": 10,
   "metadata": {},
   "outputs": [
    {
     "name": "stdout",
     "output_type": "stream",
     "text": [
      "95% Confidence limits for the ATE\n",
      "Percentile method:    [0.048908 0.0989  ]\n",
      "Normal approx method: [0.048875 0.098509]\n"
     ]
    }
   ],
   "source": [
    "ate_rs = []\n",
    "for i in range(1000):  # Drawing 1000 bootstrapped samples\n",
    "    d_star = data.sample(n=data.shape[0], # Same size as input data\n",
    "                         replace=True)  # Draw with replacement\n",
    "    fm = smf.glm(\"Y ~ A + C\", d_star, family=f).fit()\n",
    "    da = d_star.copy()\n",
    "    da['A'] = 1\n",
    "    y_a1 = fm.predict(da)\n",
    "    da['A'] = 0\n",
    "    y_a0 = fm.predict(da)\n",
    "    ate_rs.append(np.mean(y_a1 - y_a0))\n",
    "\n",
    "print(\"95% Confidence limits for the ATE\")\n",
    "ci_perc = np.percentile(ate_rs, q=[2.5, 97.5])\n",
    "print(\"Percentile method:   \", np.round(ci_perc, 6))\n",
    "ate_se = np.std(ate_rs, ddof=1)\n",
    "print(\"Normal approx method:\", np.round([ate - 1.96*ate_se,\n",
    "                                          ate + 1.96*ate_se], 6))"
   ]
  },
  {
   "cell_type": "markdown",
   "metadata": {},
   "source": [
    "## Box 10: Parametric multivariable regression adjustment implementation of the g-formula"
   ]
  },
  {
   "cell_type": "code",
   "execution_count": 11,
   "metadata": {},
   "outputs": [
    {
     "name": "stdout",
     "output_type": "stream",
     "text": [
      "ATE 0.083641\n"
     ]
    }
   ],
   "source": [
    "f = sm.families.family.Binomial()\n",
    "fm_a1 = smf.glm(\"Y ~ C + W1 + W2 + W3 + W4\", \n",
    "                data.loc[data[\"A\"] == 1], family=f).fit()\n",
    "fm_a0 = smf.glm(\"Y ~ C + W1 + W2 + W3 + W4\", \n",
    "                data.loc[data[\"A\"] == 0], family=f).fit()\n",
    "y_a1 = fm_a1.predict(data)\n",
    "y_a0 = fm_a0.predict(data)\n",
    "ate = np.mean(y_a1 - y_a0)\n",
    "\n",
    "print(\"ATE\", np.round(ate, 6))"
   ]
  },
  {
   "cell_type": "markdown",
   "metadata": {},
   "source": [
    "## Box 11: Parametric multivariable regression adjustment with zEpid"
   ]
  },
  {
   "cell_type": "code",
   "execution_count": 12,
   "metadata": {},
   "outputs": [
    {
     "name": "stdout",
     "output_type": "stream",
     "text": [
      "ATE 0.083641\n"
     ]
    }
   ],
   "source": [
    "g_formula = zepid.causal.gformula.TimeFixedGFormula(data, \n",
    "                                                    exposure=\"A\", \n",
    "                                                    outcome=\"Y\")\n",
    "g_formula.outcome_model(\"A + C + W1 + W2 + W3 + W4 + \"\n",
    "                        \"A:C + A:W1 + A:W2 + A:W3 + A:W4\",\n",
    "                        print_results=False)\n",
    "\n",
    "g_formula.fit(\"all\")  # all sets A=1\n",
    "y_a1 = g_formula.marginal_outcome\n",
    "\n",
    "g_formula.fit(\"none\")  # none sets A=0\n",
    "y_a0 = g_formula.marginal_outcome\n",
    "\n",
    "print(\"ATE\", np.round(y_a1 - y_a0, 6))"
   ]
  },
  {
   "cell_type": "markdown",
   "metadata": {},
   "source": [
    "## Box 12: N/A for Python"
   ]
  },
  {
   "cell_type": "markdown",
   "metadata": {},
   "source": [
    "## Box 13: Bootstrap for multivariable parametric regression adjustment"
   ]
  },
  {
   "cell_type": "code",
   "execution_count": 13,
   "metadata": {},
   "outputs": [
    {
     "name": "stdout",
     "output_type": "stream",
     "text": [
      "95% Confidence limits for the ATE\n",
      "Percentile method:    [0.059547 0.111055]\n",
      "Normal approx method: [0.058862 0.108421]\n"
     ]
    }
   ],
   "source": [
    "ate_rs = []\n",
    "for i in range(1000):  # Drawing 1000 bootstrapped samples\n",
    "    d_star = data.sample(n=data.shape[0], # Same size as input data\n",
    "                         replace=True)  # Draw with replacement\n",
    "    fm_a1 = smf.glm(\"Y ~ C + W1 + W2 + W3 + W4\", \n",
    "                    d_star.loc[d_star[\"A\"] == 1], \n",
    "                    family=f).fit()\n",
    "    fm_a0 = smf.glm(\"Y ~ C + W1 + W2 + W3 + W4\", \n",
    "                    d_star.loc[d_star[\"A\"] == 0], \n",
    "                    family=f).fit()\n",
    "    ate_rs.append(np.mean(fm_a1.predict(data) - fm_a0.predict(data)))\n",
    "\n",
    "print(\"95% Confidence limits for the ATE\")\n",
    "ci_perc = np.percentile(ate_rs, q=[2.5, 97.5])\n",
    "print(\"Percentile method:   \", np.round(ci_perc, 6))\n",
    "ate_se = np.std(ate_rs, ddof=1)\n",
    "print(\"Normal approx method:\", np.round([ate - 1.96*ate_se,\n",
    "                                          ate + 1.96*ate_se], 6))"
   ]
  },
  {
   "cell_type": "markdown",
   "metadata": {},
   "source": [
    "# Section 4.1: Inverse probability weighting based on the propensity score\n",
    "\n",
    "## Box 14: Computation of the IPTW estimator for the ATE"
   ]
  },
  {
   "cell_type": "code",
   "execution_count": 14,
   "metadata": {},
   "outputs": [
    {
     "name": "stdout",
     "output_type": "stream",
     "text": [
      "ATE 0.083024\n"
     ]
    }
   ],
   "source": [
    "f = sm.families.family.Binomial()\n",
    "fm_pa = smf.glm(\"A ~ C + W1 + W2 + W3 + W4\", \n",
    "                data, family=f).fit()\n",
    "p_score = fm_pa.predict(data)  # Calculating propensity scores\n",
    "data['p_score'] = p_score\n",
    "\n",
    "iptw = 1 / np.where(data['A'] == 1, p_score, 1 - p_score)  # IPTW\n",
    "data['iptw'] = iptw\n",
    "\n",
    "d_a1 = data.loc[data[\"A\"] == 1].copy()\n",
    "d_a0 = data.loc[data[\"A\"] == 0].copy()\n",
    "ate = (np.average(d_a1['Y'], weights=d_a1['iptw']) - \n",
    "       np.average(d_a0['Y'], weights=d_a0['iptw']))\n",
    "print(\"ATE\", np.round(ate, 6))"
   ]
  },
  {
   "cell_type": "markdown",
   "metadata": {},
   "source": [
    "## Box 15: Bootstrap computation for the IPTW estimator"
   ]
  },
  {
   "cell_type": "code",
   "execution_count": 15,
   "metadata": {},
   "outputs": [
    {
     "name": "stdout",
     "output_type": "stream",
     "text": [
      "95% Confidence limits for the ATE\n",
      "Percentile method:    [0.058716 0.106045]\n",
      "Normal approx method: [0.05812  0.107928]\n"
     ]
    }
   ],
   "source": [
    "ate_rs = []\n",
    "for i in range(1000):  # Drawing 1000 bootstrapped samples\n",
    "    d_star = data.sample(n=data.shape[0], # Same size as input data\n",
    "                         replace=True)  # Draw with replacement\n",
    "    fm_pa = smf.glm(\"A ~ C + W1 + W2 + W3 + W4\", \n",
    "                    d_star, family=f).fit()\n",
    "    ps_score = fm_pa.predict(d_star)  # Calculating propensity scores\n",
    "    d_star['iptw'] = 1 / np.where(d_star['A'] == 1, \n",
    "                                  ps_score, 1 - ps_score)    \n",
    "    ds_a1 = d_star.loc[d_star[\"A\"] == 1].copy()\n",
    "    ds_a0 = d_star.loc[d_star[\"A\"] == 0].copy()\n",
    "    ate_rs.append(np.average(ds_a1['Y'], weights=ds_a1['iptw']) - \n",
    "                  np.average(ds_a0['Y'], weights=ds_a0['iptw']))\n",
    "\n",
    "print(\"95% Confidence limits for the ATE\")\n",
    "ci_perc = np.percentile(ate_rs, q=[2.5, 97.5])\n",
    "print(\"Percentile method:   \", np.round(ci_perc, 6))\n",
    "ate_se = np.std(ate_rs, ddof=1)\n",
    "print(\"Normal approx method:\", np.round([ate - 1.96*ate_se,\n",
    "                                          ate + 1.96*ate_se], 6))"
   ]
  },
  {
   "cell_type": "markdown",
   "metadata": {},
   "source": [
    "## Box 16: Computation of the IPTW estimator for the ATE with zEpid"
   ]
  },
  {
   "cell_type": "code",
   "execution_count": 16,
   "metadata": {},
   "outputs": [
    {
     "name": "stdout",
     "output_type": "stream",
     "text": [
      "                 RD    SE(RD)    95%LCL    95%UCL\n",
      "labels                                           \n",
      "Intercept  0.303559  0.007713  0.288441  0.318677\n",
      "A          0.083024  0.013045  0.057455  0.108593\n"
     ]
    }
   ],
   "source": [
    "ipw = zepid.causal.ipw.IPTW(data, treatment=\"A\", outcome=\"Y\")\n",
    "ipw.treatment_model(\"C + W1 + W2 + W3 + W4\", \n",
    "                    stabilized=False,  # Set to True for stabilized\n",
    "                    print_results=False)\n",
    "ipw.marginal_structural_model(\"A\")\n",
    "ipw.fit()\n",
    "print(ipw.risk_difference)"
   ]
  },
  {
   "cell_type": "markdown",
   "metadata": {},
   "source": [
    "## Box 17: Assessing IPTW balance"
   ]
  },
  {
   "cell_type": "code",
   "execution_count": 17,
   "metadata": {},
   "outputs": [
    {
     "name": "stdout",
     "output_type": "stream",
     "text": [
      "  Confounder       Raw  Weighted\n",
      "0          C  0.093144  0.000412\n",
      "1         W1 -0.061352 -0.003820\n",
      "2         W2  0.091364 -0.002582\n",
      "3         W3 -0.002240  0.002343\n",
      "4         W4 -0.105184  0.001223\n"
     ]
    },
    {
     "data": {
      "image/png": "[encoded data removed]",
      "text/plain": [
       "<Figure size 432x288 with 1 Axes>"
      ]
     },
     "metadata": {
      "needs_background": "light"
     },
     "output_type": "display_data"
    }
   ],
   "source": [
    "rename_cols = {\"smd_w\": \"Weighted\", \"smd_u\": \"Raw\", \n",
    "               \"labels\": \"Confounder\"}\n",
    "\n",
    "smd = ipw.standardized_mean_differences().rename(columns=rename_cols)\n",
    "smd = smd.sort_values(by='Confounder')\n",
    "print(smd[['Confounder', 'Raw', 'Weighted']])\n",
    "\n",
    "# zEpid plotting functionality\n",
    "ipw.plot_love()\n",
    "plt.show()"
   ]
  },
  {
   "cell_type": "markdown",
   "metadata": {},
   "source": [
    "## Box 18: Assessing IPTW overlap by-hand"
   ]
  },
  {
   "cell_type": "code",
   "execution_count": 18,
   "metadata": {},
   "outputs": [
    {
     "data": {
      "image/png": "[encoded data removed]",
      "text/plain": [
       "<Figure size 432x288 with 1 Axes>"
      ]
     },
     "metadata": {
      "needs_background": "light"
     },
     "output_type": "display_data"
    }
   ],
   "source": [
    "density_t = gaussian_kde(1 - data.loc[data[\"A\"] == 1, 'p_score'])\n",
    "density_u = gaussian_kde(1 - data.loc[data[\"A\"] == 0, 'p_score'])\n",
    "\n",
    "x = np.linspace(0, 1, 10000)\n",
    "\n",
    "ax = plt.gca()\n",
    "ax.fill_between(x, density_t(x), color=\"b\", alpha=0.2, label=None)\n",
    "ax.plot(x, density_t(x), color=\"b\", label='RHC = Y')\n",
    "ax.fill_between(x, density_u(x), color=\"r\", alpha=0.2, label=None)\n",
    "ax.plot(x, density_u(x), color=\"r\", label='RHC = N')\n",
    "ax.set_ylim([0, 10])\n",
    "ax.set_ylabel(\"density\")\n",
    "ax.set_xlim([0.45, 0.8])\n",
    "ax.set_xlabel(\"1 - Propensity Score\")\n",
    "ax.legend()\n",
    "plt.show()"
   ]
  },
  {
   "cell_type": "markdown",
   "metadata": {},
   "source": [
    "## Box 19: Assessing overlap with zEpid"
   ]
  },
  {
   "cell_type": "code",
   "execution_count": 19,
   "metadata": {},
   "outputs": [
    {
     "data": {
      "image/png": "[encoded data removed]",
      "text/plain": [
       "<Figure size 432x288 with 1 Axes>"
      ]
     },
     "metadata": {
      "needs_background": "light"
     },
     "output_type": "display_data"
    }
   ],
   "source": [
    "ipw.plot_kde()\n",
    "plt.ylim([0, 10])\n",
    "plt.xlim([0.2, 0.55])\n",
    "plt.show()"
   ]
  },
  {
   "cell_type": "markdown",
   "metadata": {},
   "source": [
    "# Section 4.2: Marginal structural model with stabilised weights\n",
    "\n",
    "## Box 20: Computation of the IPTW estimator for the ATE using a MSM"
   ]
  },
  {
   "cell_type": "code",
   "execution_count": 20,
   "metadata": {},
   "outputs": [
    {
     "name": "stderr",
     "output_type": "stream",
     "text": [
      "/home/pzivich/.pyenv/versions/3.6.5/lib/python3.6/site-packages/statsmodels/genmod/generalized_estimating_equations.py:499: DomainWarning: The identity link function does not respect the domain of the Binomial family.\n",
      "  DomainWarning)\n",
      "/home/pzivich/.pyenv/versions/3.6.5/lib/python3.6/site-packages/statsmodels/genmod/generalized_linear_model.py:296: DomainWarning: The identity link function does not respect the domain of the Binomial family.\n",
      "  DomainWarning)\n",
      "/home/pzivich/.pyenv/versions/3.6.5/lib/python3.6/site-packages/statsmodels/genmod/generalized_linear_model.py:296: DomainWarning: The identity link function does not respect the domain of the Binomial family.\n",
      "  DomainWarning)\n"
     ]
    },
    {
     "name": "stdout",
     "output_type": "stream",
     "text": [
      "Unstabilized Weights\n",
      "ATE    0.083024\n",
      "95% CL [0.05745525 0.1085925 ]\n"
     ]
    },
    {
     "name": "stderr",
     "output_type": "stream",
     "text": [
      "/home/pzivich/.pyenv/versions/3.6.5/lib/python3.6/site-packages/statsmodels/genmod/generalized_estimating_equations.py:499: DomainWarning: The identity link function does not respect the domain of the Binomial family.\n",
      "  DomainWarning)\n",
      "/home/pzivich/.pyenv/versions/3.6.5/lib/python3.6/site-packages/statsmodels/genmod/generalized_linear_model.py:296: DomainWarning: The identity link function does not respect the domain of the Binomial family.\n",
      "  DomainWarning)\n",
      "/home/pzivich/.pyenv/versions/3.6.5/lib/python3.6/site-packages/statsmodels/genmod/generalized_linear_model.py:296: DomainWarning: The identity link function does not respect the domain of the Binomial family.\n",
      "  DomainWarning)\n"
     ]
    },
    {
     "name": "stdout",
     "output_type": "stream",
     "text": [
      "\n",
      "Stabilized Weights\n",
      "ATE    0.083024\n",
      "95% CL [0.05745525 0.1085925 ]\n"
     ]
    }
   ],
   "source": [
    "### Unstabilized IPTW ###\n",
    "fm_pa = smf.glm(\"A ~ C + W1 + W2 + W3 + W4\", \n",
    "                data, family=f).fit()\n",
    "p_score = fm_pa.predict(data)  # Calculating propensity scores\n",
    "iptw = 1 / np.where(data['A'] == 1, p_score, 1 - p_score)  # IPTW\n",
    "\n",
    "# Estimating Marginal Structural Model\n",
    "f = sm.families.family.Binomial(sm.families.links.identity())\n",
    "fm = smf.gee(\"Y ~ A\", data.index, data,\n",
    "             cov_struct=sm.cov_struct.Independence(), \n",
    "             family=f, weights=iptw).fit()\n",
    "# NOTE: statsmodels with generate a DomainWarning since the identity-binomial is not bounded\n",
    "print(\"Unstabilized Weights\")\n",
    "print(\"ATE   \", np.round(fm.params['A'], 6))\n",
    "print(\"95% CL\", np.asarray(fm.conf_int().loc[\"A\"]))\n",
    "\n",
    "### Stabilized IPTW ###\n",
    "f = sm.families.family.Binomial()\n",
    "\n",
    "fm_ma = smf.glm(\"A ~ 1\", data, family=f).fit()  # Numerator\n",
    "num = np.where(data['A'] == 1, fm_ma.predict(data), \n",
    "               1 - fm_ma.predict(data))\n",
    "fm_pa = smf.glm(\"A ~ C + W1 + W2 + W3 + W4\",  # Denominator\n",
    "                data, family=f).fit()\n",
    "den = np.where(data['A'] == 1, fm_pa.predict(data), \n",
    "               1 - fm_pa.predict(data))\n",
    "iptw = num / den  # IPTW\n",
    "\n",
    "# Estimating Marginal Structural Model\n",
    "f = sm.families.family.Binomial(sm.families.links.identity())\n",
    "fm = smf.gee(\"Y ~ A\", data.index, data,\n",
    "             cov_struct=sm.cov_struct.Independence(), \n",
    "             family=f, weights=iptw).fit()\n",
    "# NOTE: statsmodels with generate a DomainWarning since the identity-binomial is not bounded\n",
    "print(\"\\nStabilized Weights\")\n",
    "print(\"ATE   \", np.round(fm.params['A'], 6))\n",
    "print(\"95% CL\", np.asarray(fm.conf_int().loc[\"A\"]))"
   ]
  },
  {
   "cell_type": "markdown",
   "metadata": {},
   "source": [
    "# Section 5.1: Inverse probability weighting plus regression adjustment\n",
    "\n",
    "## Box 21: Computation of the IPTW-RA estimator for the ATE"
   ]
  },
  {
   "cell_type": "code",
   "execution_count": 21,
   "metadata": {},
   "outputs": [
    {
     "name": "stdout",
     "output_type": "stream",
     "text": [
      "ATE 0.083641\n",
      "ATE 0.083192\n"
     ]
    }
   ],
   "source": [
    "f = sm.families.family.Binomial()\n",
    "\n",
    "fm_a1 = smf.glm(\"Y ~ C + W1 + W2 + W3 + W4\", \n",
    "                data.loc[data[\"A\"] == 1],  # Only A=1\n",
    "                weights=data.loc[data[\"A\"] == 1, 'iptw'], # Box 17\n",
    "                family=f).fit()\n",
    "y_a1 = fm_a1.predict(data)\n",
    "\n",
    "fm_a0 = smf.glm(\"Y ~ C + W1 + W2 + W3 + W4\", \n",
    "                data.loc[data[\"A\"] == 0],  # Only A=0\n",
    "                weights=data.loc[data[\"A\"] == 0, 'iptw'],  # Box 17\n",
    "                family=f).fit()\n",
    "y_a0 = fm_a0.predict(data)\n",
    "\n",
    "ate = np.mean(y_a1 - y_a0)\n",
    "print(\"ATE\", np.round(ate, 6))\n",
    "ate = (np.mean(data['iptw']*data['A']*y_a1) / np.mean(data['iptw']*data['A']) - \n",
    "       np.mean(data['iptw']*(1-data['A'])*y_a0) / np.mean(data['iptw']*(1-data['A'])))\n",
    "print(\"ATE\", np.round(ate, 6))"
   ]
  },
  {
   "cell_type": "markdown",
   "metadata": {},
   "source": [
    "## Box 22: N/A"
   ]
  },
  {
   "cell_type": "markdown",
   "metadata": {},
   "source": [
    "# Section 5.2: Augmented Inverse Probability Weighting\n",
    "\n",
    "## Box 23: Computation of the AIPTW estimator for the ATE and bootstrap for statistical inference"
   ]
  },
  {
   "cell_type": "code",
   "execution_count": 22,
   "metadata": {},
   "outputs": [
    {
     "name": "stdout",
     "output_type": "stream",
     "text": [
      "ATE 0.083473\n",
      "95% Confidence limits for the ATE\n",
      "Percentile method:    [0.058106 0.109349]\n",
      "Normal approx method: [0.057769 0.109178]\n"
     ]
    }
   ],
   "source": [
    "# Box 23: Computation of the AIPTW estimator\n",
    "f = sm.families.family.Binomial()\n",
    "\n",
    "# Step 1: prediction model for the outcome using regression adjustment\n",
    "fm_a1 = smf.glm(\"Y ~ C + W1 + W2 + W3 + W4\", \n",
    "                data.loc[data[\"A\"] == 1], family=f).fit()\n",
    "fm_a0 = smf.glm(\"Y ~ C + W1 + W2 + W3 + W4\", \n",
    "                data.loc[data[\"A\"] == 0], family=f).fit()\n",
    "y_a1 = fm_a1.predict(data)\n",
    "y_a0 = fm_a0.predict(data)\n",
    "\n",
    "# Step 2: prediction model for the treatment\n",
    "fm_pa = smf.glm(\"A ~ C + W1 + W2 + W3 + W4\", \n",
    "                data, family=f).fit()\n",
    "p_score = fm_pa.predict(data)\n",
    "\n",
    "# Step 3: estimating equation\n",
    "ys_a1 = ((data['A'] * data['Y'])/ (p_score) + \n",
    "         (y_a1*(p_score-data['A'])) / p_score)\n",
    "ys_a0 = (((1-data['A']) * data['Y'])/ (1-p_score) + \n",
    "         (y_a0*(data['A']-p_score)) / (1-p_score))\n",
    "ate = np.mean(ys_a1 - ys_a0)\n",
    "print(\"ATE\", np.round(ate, 6))\n",
    "\n",
    "# Step 4: bootstrap confidence intervals\n",
    "ate_rs = []\n",
    "for i in range(1000):\n",
    "    d_star = data.sample(n=data.shape[0], # Same size as input data\n",
    "                     replace=True)  # Draw with replacement\n",
    "    fm_a1 = smf.glm(\"Y ~ C + W1 + W2 + W3 + W4\", \n",
    "                    d_star.loc[d_star[\"A\"] == 1], family=f).fit()\n",
    "    fm_a0 = smf.glm(\"Y ~ C + W1 + W2 + W3 + W4\", \n",
    "                    d_star.loc[d_star[\"A\"] == 0], family=f).fit()\n",
    "    y_a1 = fm_a1.predict(d_star)\n",
    "    y_a0 = fm_a0.predict(d_star)\n",
    "    fm_pa = smf.glm(\"A ~ C + W1 + W2 + W3 + W4\", \n",
    "                    d_star, family=f).fit()\n",
    "    p_score = fm_pa.predict(d_star)\n",
    "    ys_a1 = ((d_star['A'] * d_star['Y'])/ (p_score) + \n",
    "             (y_a1*(p_score-d_star['A'])) / p_score)\n",
    "    ys_a0 = (((1-d_star['A']) * d_star['Y'])/ (1-p_score) + \n",
    "             (y_a0*(d_star['A']-p_score)) / (1-p_score))\n",
    "    ate_rs.append(np.mean(ys_a1 - ys_a0))\n",
    "\n",
    "\n",
    "print(\"95% Confidence limits for the ATE\")\n",
    "ci_perc = np.percentile(ate_rs, q=[2.5, 97.5])\n",
    "print(\"Percentile method:   \", np.round(ci_perc, 6))\n",
    "ate_se = np.std(ate_rs, ddof=1)\n",
    "print(\"Normal approx method:\", np.round([ate - 1.96*ate_se,\n",
    "                                          ate + 1.96*ate_se], 6))"
   ]
  },
  {
   "cell_type": "markdown",
   "metadata": {},
   "source": [
    "## Box 24: Computation of the AIPTW estimator for the ATE with zEpid"
   ]
  },
  {
   "cell_type": "code",
   "execution_count": 23,
   "metadata": {},
   "outputs": [
    {
     "name": "stdout",
     "output_type": "stream",
     "text": [
      "ATE    0.083473\n",
      "95% CL [0.058214 0.108733]\n"
     ]
    }
   ],
   "source": [
    "aipw = zepid.causal.doublyrobust.AIPTW(data, \n",
    "                                       exposure=\"A\", \n",
    "                                       outcome=\"Y\")\n",
    "aipw.exposure_model(\"C + W1 + W2 + W3 + W4\", \n",
    "                    print_results=False)\n",
    "aipw.outcome_model(\"A + C + W1 + W2 + W3 + W4 + \"\n",
    "                   \"A:C + A:W1 + A:W2 + A:W3 + A:W4\", \n",
    "                   print_results=False)\n",
    "aipw.fit()\n",
    "\n",
    "print(\"ATE   \", np.round(aipw.risk_difference, 6))\n",
    "# zEpid calculates the variance using influence curves\n",
    "print(\"95% CL\", np.round(aipw.risk_difference_ci, 6))"
   ]
  },
  {
   "cell_type": "markdown",
   "metadata": {},
   "source": [
    "# Section 6: Data-Adaptive Estimation: Ensemble Learning Targeted Maximum Likelihood Estimation\n",
    "\n",
    "## Box 25: Computational implementation of TMLE by-hand"
   ]
  },
  {
   "cell_type": "code",
   "execution_count": 24,
   "metadata": {},
   "outputs": [
    {
     "name": "stdout",
     "output_type": "stream",
     "text": [
      "ATE 0.083474\n",
      "95% CL [0.058214 0.108734]\n"
     ]
    }
   ],
   "source": [
    "f = sm.families.family.Binomial()\n",
    "n = data.shape[0]\n",
    "\n",
    "# Step 1: prediction model for the outcome using regression adjustment\n",
    "fm_a1 = smf.glm(\"Y ~ C + W1 + W2 + W3 + W4\", \n",
    "                data.loc[data[\"A\"] == 1], family=f).fit()\n",
    "fm_a0 = smf.glm(\"Y ~ C + W1 + W2 + W3 + W4\", \n",
    "                data.loc[data[\"A\"] == 0], family=f).fit()\n",
    "y_a1 = fm_a1.predict(data)\n",
    "y_a0 = fm_a0.predict(data)\n",
    "y_a_ = np.where(data['A'] == 1, y_a1, y_a0)\n",
    "\n",
    "# Step 2: prediction model for the treatment\n",
    "fm_pa = smf.glm(\"A ~ C + W1 + W2 + W3 + W4\", \n",
    "                data, family=f).fit()\n",
    "p_score = fm_pa.predict(data)\n",
    "\n",
    "# Step 3: targeting step\n",
    "logodds_y1 = np.log(probability_to_odds(y_a1))\n",
    "logodds_y0 = np.log(probability_to_odds(y_a0))\n",
    "logodds_ya = np.log(probability_to_odds(y_a_))\n",
    "\n",
    "clever_cov_a1 = data['A']/p_score\n",
    "clever_cov_a0 = - (1-data['A'])/(1-p_score)\n",
    "\n",
    "submodel = sm.GLM(data['Y'], \n",
    "                  np.column_stack((clever_cov_a1, clever_cov_a0)), \n",
    "                  offset=logodds_ya,\n",
    "                  family=f).fit()\n",
    "epsilon = submodel.params\n",
    "\n",
    "# Step 4: calculating ATE\n",
    "ys_a1 = logistic.cdf(logodds_y1 + epsilon[0] / p_score)\n",
    "ys_a0 = logistic.cdf(logodds_y0 - epsilon[1] / (1-p_score))\n",
    "ate = np.mean(ys_a1 - ys_a0)\n",
    "print(\"ATE\", np.round(ate, 6))\n",
    "\n",
    "# Step 5: inference via influence curve\n",
    "ic = (clever_cov_a1 + clever_cov_a0) * (data['Y'] - y_a_) + (y_a1 - y_a0) - ate\n",
    "sd = np.sqrt(np.nanvar(ic, ddof=1) / n)\n",
    "cl = [ate - 1.96*sd, ate + 1.96*sd]\n",
    "print(\"95% CL\", np.round(cl, 6))"
   ]
  },
  {
   "cell_type": "markdown",
   "metadata": {},
   "source": [
    "## Box 26: TMLE asnd data-adaptive estimation with zEpid"
   ]
  },
  {
   "cell_type": "code",
   "execution_count": 25,
   "metadata": {},
   "outputs": [
    {
     "name": "stdout",
     "output_type": "stream",
     "text": [
      "ATE    0.083474\n",
      "95% CL [0.058214 0.108734]\n"
     ]
    }
   ],
   "source": [
    "tmle = zepid.causal.doublyrobust.TMLE(data, \n",
    "                                      exposure=\"A\", \n",
    "                                      outcome=\"Y\")\n",
    "tmle.exposure_model(\"C + W1 + W2 + W3 + W4\",\n",
    "                    print_results=False)\n",
    "tmle.outcome_model(\"A + C + W1 + W2 + W3 + W4 + \"\n",
    "                   \"A:C + A:W1 + A:W2 + A:W3 + A:W4\", \n",
    "                   print_results=False)\n",
    "tmle.fit()\n",
    "\n",
    "print(\"ATE   \", np.round(tmle.risk_difference, 6))\n",
    "print(\"95% CL\", np.round(tmle.risk_difference_ci, 6))"
   ]
  },
  {
   "cell_type": "markdown",
   "metadata": {},
   "source": [
    "# Section 7: Simulation\n",
    "\n",
    "## Box 27: Data generation for the Monte Carlo experiment"
   ]
  },
  {
   "cell_type": "code",
   "execution_count": 26,
   "metadata": {},
   "outputs": [],
   "source": [
    "def data_generator(n, true_ate=False):\n",
    "    \"\"\"Function to generate data consisting of `n` observations\"\"\"\n",
    "    d = pd.DataFrame()\n",
    "    # Confounders\n",
    "    d['W1'] = np.round(np.random.uniform(low=1, high=5, size=n))\n",
    "    d['W2'] = np.random.binomial(n=1, p=0.45, size=n)\n",
    "    d['W3'] = np.round(np.random.uniform(low=0, high=1, size=n)\n",
    "                       + 0.8*d['W1'] + 0.75*d['W2'])\n",
    "    d['W3'] = np.where(d['W3'] > 4, 1, d['W3'])\n",
    "    d['W4'] = np.round(np.random.uniform(low=0, high=1, size=n)\n",
    "                       + 0.2*d['W1'] + 0.75*d['W2'])\n",
    "    # Treatment\n",
    "    pr_a = logistic.cdf(-1 - 0.15*d['W4'] + 1.5*d['W2'] + \n",
    "                        0.75*d['W3'] + 0.25*d['W1'] + \n",
    "                        0.8*d['W2']*d['W4'])\n",
    "    d['A'] = np.random.binomial(n=1, \n",
    "                                p=pr_a, \n",
    "                                size=n)\n",
    "    # Potential outcomes\n",
    "    pr_y1 = logistic.cdf(-3 + 1 + 0.25*d['W4'] + 0.75*d['W3'] + \n",
    "                         0.8*d['W2']*d['W4'] + 0.05*d['W1'])\n",
    "    y1 = np.random.binomial(n=1, p=pr_y1, size=n)\n",
    "    pr_y0 = logistic.cdf(-3 + 0 + 0.25*d['W4'] + 0.75*d['W3'] + \n",
    "                         0.8*d['W2']*d['W4'] + 0.05*d['W1'])\n",
    "    y0 = np.random.binomial(n=1, p=pr_y0, size=n)\n",
    "    # Causal consistency\n",
    "    d['Y'] = np.where(d['A'] == 1, y1, y0)\n",
    "    # Return generated data\n",
    "    if true_ate:\n",
    "        return np.mean(y1 - y0)\n",
    "    else:\n",
    "        return d\n",
    "\n",
    "\n",
    "# Generating true value from super-population\n",
    "true_ate = data_generator(n=5000000, true_ate=True)"
   ]
  },
  {
   "cell_type": "code",
   "execution_count": 27,
   "metadata": {},
   "outputs": [],
   "source": [
    "# Setting up SuperLearner libraries\n",
    "from zepid.superlearner import SuperLearner, StepwiseSL\n",
    "from sklearn.linear_model import LogisticRegression\n",
    "from pygam import LogisticGAM, f, s\n",
    "\n",
    "import warnings\n",
    "warnings.simplefilter('ignore', RuntimeWarning)  # Hides some NumPy errors for sparse models\n",
    "\n",
    "family = sm.families.family.Binomial()\n",
    "\n",
    "sl_library_main = [LogisticRegression(penalty='none', solver='lbfgs'),\n",
    "                   StepwiseSL(family, selection=\"backward\"), \n",
    "                   StepwiseSL(family, selection=\"forward\", order_interaction=1)]\n",
    "sl_main_labs = [\"LogR\", \"Step.zero\", \"Step.one\"]\n",
    "sl_main = SuperLearner(sl_library_main, sl_main_labs, folds=5,\n",
    "                       loss_function='nloglik')\n",
    "\n",
    "sl_library_alt = [LogisticRegression(penalty='none', solver='lbfgs'),\n",
    "                  StepwiseSL(family, selection=\"backward\"), \n",
    "                  StepwiseSL(family, selection=\"forward\", order_interaction=1),\n",
    "                  LogisticGAM(f(0) + s(1) + f(2) + s(3) + s(4), lam=0.6)]\n",
    "sl_alt_labs = [\"LogR\", \"Step.zero\", \"Step.one\", \"GAM\"]\n",
    "sl_alt = SuperLearner(sl_library_alt, sl_alt_labs, folds=5,\n",
    "                      loss_function='nloglik')"
   ]
  },
  {
   "cell_type": "markdown",
   "metadata": {},
   "source": [
    "### Running simulation"
   ]
  },
  {
   "cell_type": "code",
   "execution_count": 28,
   "metadata": {},
   "outputs": [],
   "source": [
    "# Simulation\n",
    "naive_rd, gform_rd, iptw_rd, aipw_rd, tmle_rd = [], [], [], [], []\n",
    "aipw_slm_rd, aipw_sla_rd, tmle_slm_rd, tmle_sla_rd = [], [], [], []\n",
    "\n",
    "for i in range(1000):    \n",
    "    data = data_generator(n=1000)\n",
    "\n",
    "    # Naive\n",
    "    fm = smf.ols(\"Y ~ A + W1 + W2 + W3 + W4\", data).fit()\n",
    "    naive_rd.append(fm.params['A'])\n",
    "    \n",
    "    # G-formula\n",
    "    g_formula = zepid.causal.gformula.TimeFixedGFormula(data, \n",
    "                                                    exposure=\"A\", \n",
    "                                                    outcome=\"Y\")\n",
    "    g_formula.outcome_model(\"A + W1 + W2 + W3 + W4\",\n",
    "                            print_results=False)\n",
    "    g_formula.fit(\"all\")  # all sets A=1\n",
    "    y_a1 = g_formula.marginal_outcome\n",
    "    g_formula.fit(\"none\")  # none sets A=0\n",
    "    y_a0 = g_formula.marginal_outcome\n",
    "    gform_rd.append(y_a1 - y_a0)\n",
    "    \n",
    "    # IPTW\n",
    "    ipw = zepid.causal.ipw.IPTW(data, treatment=\"A\", outcome=\"Y\")\n",
    "    ipw.treatment_model(\"W1 + W2 + W3 + W4\", bound=0.01,\n",
    "                        stabilized=True, print_results=False)\n",
    "    ipw.marginal_structural_model(\"A\")\n",
    "    ipw.fit()\n",
    "    iptw_rd.append(ipw.risk_difference)\n",
    "\n",
    "    # AIPW\n",
    "    aipw = zepid.causal.doublyrobust.AIPTW(data, \n",
    "                                       exposure=\"A\", \n",
    "                                       outcome=\"Y\")\n",
    "    aipw.exposure_model(\"W1 + W2 + W3 + W4\", bound=0.01,\n",
    "                        print_results=False)\n",
    "    aipw.outcome_model(\"A + W1 + W2 + W3 + W4\", \n",
    "                       print_results=False)\n",
    "    aipw.fit()\n",
    "    aipw_rd.append(aipw.risk_difference)\n",
    "    \n",
    "    # AIPW -- Super Learner main\n",
    "    aipw = zepid.causal.doublyrobust.AIPTW(data, \n",
    "                                       exposure=\"A\", \n",
    "                                       outcome=\"Y\")\n",
    "    aipw.exposure_model(\"W1 + W2 + W3 + W4\", bound=0.01,\n",
    "                        custom_model=sl_main,\n",
    "                        print_results=False)\n",
    "    aipw.outcome_model(\"A + W1 + W2 + W3 + W4\", \n",
    "                        custom_model=sl_main,\n",
    "                       print_results=False)\n",
    "    aipw.fit()\n",
    "    aipw_slm_rd.append(aipw.risk_difference)\n",
    "    \n",
    "    # AIPW -- Super Learner alternative\n",
    "    aipw = zepid.causal.doublyrobust.AIPTW(data, \n",
    "                                       exposure=\"A\", \n",
    "                                       outcome=\"Y\")\n",
    "    aipw.exposure_model(\"W1 + W2 + W3 + W4\", bound=0.01,\n",
    "                        custom_model=sl_alt,\n",
    "                        print_results=False)\n",
    "    aipw.outcome_model(\"A + W1 + W2 + W3 + W4\", \n",
    "                        custom_model=sl_alt,\n",
    "                       print_results=False)\n",
    "    aipw.fit()\n",
    "    aipw_sla_rd.append(aipw.risk_difference)\n",
    "    \n",
    "    # TMLE\n",
    "    tmle = zepid.causal.doublyrobust.TMLE(data, \n",
    "                                          exposure=\"A\", \n",
    "                                          outcome=\"Y\")\n",
    "    tmle.exposure_model(\"W1 + W2 + W3 + W4\", bound=0.01,\n",
    "                        print_results=False)\n",
    "    tmle.outcome_model(\"A + W1 + W2 + W3 + W4\", \n",
    "                       print_results=False)\n",
    "    tmle.fit()\n",
    "    tmle_rd.append(tmle.risk_difference)\n",
    "\n",
    "    # TMLE -- Super Learner main\n",
    "    tmle = zepid.causal.doublyrobust.TMLE(data, \n",
    "                                          exposure=\"A\", \n",
    "                                          outcome=\"Y\")\n",
    "    tmle.exposure_model(\"W1 + W2 + W3 + W4\", bound=0.01,\n",
    "                        custom_model=sl_main,\n",
    "                        print_results=False)\n",
    "    tmle.outcome_model(\"A + W1 + W2 + W3 + W4\", \n",
    "                       custom_model=sl_main,\n",
    "                       print_results=False)\n",
    "    tmle.fit()\n",
    "    tmle_slm_rd.append(tmle.risk_difference)\n",
    "    \n",
    "    # TMLE -- Super Learner alternative\n",
    "    tmle = zepid.causal.doublyrobust.TMLE(data, \n",
    "                                          exposure=\"A\", \n",
    "                                          outcome=\"Y\")\n",
    "    tmle.exposure_model(\"W1 + W2 + W3 + W4\", bound=0.01,\n",
    "                        custom_model=sl_alt,\n",
    "                        print_results=False)\n",
    "    tmle.outcome_model(\"A + W1 + W2 + W3 + W4\", \n",
    "                       custom_model=sl_alt,\n",
    "                       print_results=False)\n",
    "    tmle.fit()\n",
    "    tmle_sla_rd.append(tmle.risk_difference)\n",
    "    \n"
   ]
  },
  {
   "cell_type": "code",
   "execution_count": 29,
   "metadata": {},
   "outputs": [
    {
     "name": "stdout",
     "output_type": "stream",
     "text": [
      "=============================\n",
      "Naive\n",
      "-----------------------------\n",
      "Abs. Bias: 0.052\n",
      "Rel. Bias: 28.5\n",
      "=============================\n",
      "=============================\n",
      "G-formula\n",
      "-----------------------------\n",
      "Abs. Bias: 0.005\n",
      "Rel. Bias: 2.7\n",
      "=============================\n",
      "=============================\n",
      "IPTW\n",
      "-----------------------------\n",
      "Abs. Bias: 0.107\n",
      "Rel. Bias: 59.0\n",
      "=============================\n",
      "=============================\n",
      "AIPW\n",
      "-----------------------------\n",
      "Abs. Bias: 0.011\n",
      "Rel. Bias: 5.8\n",
      "=============================\n",
      "=============================\n",
      "AIPW-SL1\n",
      "-----------------------------\n",
      "Abs. Bias: 0.009\n",
      "Rel. Bias: 5.1\n",
      "=============================\n",
      "=============================\n",
      "AIPW-SL2\n",
      "-----------------------------\n",
      "Abs. Bias: 0.01\n",
      "Rel. Bias: 5.3\n",
      "=============================\n",
      "=============================\n",
      "TMLE\n",
      "-----------------------------\n",
      "Abs. Bias: 0.017\n",
      "Rel. Bias: 9.2\n",
      "=============================\n",
      "=============================\n",
      "TMLE-SL1\n",
      "-----------------------------\n",
      "Abs. Bias: 0.014\n",
      "Rel. Bias: 7.5\n",
      "=============================\n",
      "=============================\n",
      "TMLE-SL2\n",
      "-----------------------------\n",
      "Abs. Bias: 0.015\n",
      "Rel. Bias: 8.5\n",
      "=============================\n"
     ]
    }
   ],
   "source": [
    "# Results\n",
    "result = [naive_rd, gform_rd, iptw_rd, aipw_rd, aipw_slm_rd, \n",
    "          aipw_sla_rd, tmle_rd, tmle_slm_rd, tmle_sla_rd]\n",
    "labels = [\"Naive\", \"G-formula\", \"IPTW\", \"AIPW\", \"AIPW-SL1\", \n",
    "          \"AIPW-SL2\", \"TMLE\", \"TMLE-SL1\", \"TMLE-SL2\"]\n",
    "for x, y in zip(result, labels):\n",
    "    print(\"=============================\")\n",
    "    print(y)\n",
    "    print(\"-----------------------------\")\n",
    "    print(\"Abs. Bias:\", np.round(np.mean(x - true_ate), 3))\n",
    "    rel_bias = np.abs(np.mean((x - true_ate) / true_ate)*100)\n",
    "    print(\"Rel. Bias:\", np.round(rel_bias, 1))\n",
    "    print(\"=============================\")\n"
   ]
  }
 ],
 "metadata": {
  "kernelspec": {
   "display_name": "Python 3",
   "language": "python",
   "name": "python3"
  },
  "language_info": {
   "codemirror_mode": {
    "name": "ipython",
    "version": 3
   },
   "file_extension": ".py",
   "mimetype": "text/x-python",
   "name": "python",
   "nbconvert_exporter": "python",
   "pygments_lexer": "ipython3",
   "version": "3.6.5"
  }
 },
 "nbformat": 4,
 "nbformat_minor": 4
}
